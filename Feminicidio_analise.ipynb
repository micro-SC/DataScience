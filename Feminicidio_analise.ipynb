{
  "nbformat": 4,
  "nbformat_minor": 0,
  "metadata": {
    "colab": {
      "name": "Feminicidio-analise.ipynb",
      "provenance": [],
      "collapsed_sections": [],
      "include_colab_link": true
    },
    "kernelspec": {
      "name": "python3",
      "display_name": "Python 3"
    }
  },
  "cells": [
    {
      "cell_type": "markdown",
      "metadata": {
        "id": "view-in-github",
        "colab_type": "text"
      },
      "source": [
        "<a href=\"https://colab.research.google.com/github/micro-SC/DataScience/blob/master/Feminicidio_analise.ipynb\" target=\"_parent\"><img src=\"https://colab.research.google.com/assets/colab-badge.svg\" alt=\"Open In Colab\"/></a>"
      ]
    },
    {
      "cell_type": "markdown",
      "metadata": {
        "id": "d7rC7dRfq7R6",
        "colab_type": "text"
      },
      "source": [
        "#Análise de dados sobre homicídio às mulheres\n",
        "\n",
        "Vocês já pararam pra pensar o que mais pode influenciar o homem a fazer uma ação tão trágica e polêmica como matar sua própria companheira? Um relacionamento abusivo/agressivo? Conclusões de traição? Pode acontecer também, em outros casos, a mulher morrer por conta de um companheiro ciumento e agressivo, mas sim por fazer parte de alguma facção criminosa. Acredita-me que tudo pode ser concluído através de uma pequena análise e estudos sobre o assunto. "
      ]
    },
    {
      "cell_type": "markdown",
      "metadata": {
        "id": "xtWyIabDjJ4Q",
        "colab_type": "text"
      },
      "source": [
        "##Introdução"
      ]
    },
    {
      "cell_type": "markdown",
      "metadata": {
        "id": "esuBlculrE5A",
        "colab_type": "text"
      },
      "source": [
        "### Apresentação\n",
        "\n"
      ]
    },
    {
      "cell_type": "markdown",
      "metadata": {
        "id": "oOjlcPjnZs7J",
        "colab_type": "text"
      },
      "source": [
        "> **Olá Pessoal**!\n",
        ">\n",
        ">  Primeiramente, desejo me apresentar antes de prosseguir com este notebook. Meu nome é Marcel, sou um amador na progamação, tenho 17 anos (2019) e por ver muita gente trabalhando com Data Science, acabei por me apaixonar pela área e começar a estudar. Possuo muitas inspirações, e apoio de muitos amigos, Então pensei que poderia criar esse notebook para aprender a mexer com bibliotecas que não cheguei a conhecer por completo e aprender coisas novas com essa ferramenta incrível chamada *google colab*.\n",
        "\n"
      ]
    },
    {
      "cell_type": "code",
      "metadata": {
        "id": "dDLowdsQtspX",
        "colab_type": "code",
        "colab": {}
      },
      "source": [
        "!pip install wordcloud -q"
      ],
      "execution_count": 0,
      "outputs": []
    },
    {
      "cell_type": "code",
      "metadata": {
        "id": "IYUDdR4etywT",
        "colab_type": "code",
        "colab": {}
      },
      "source": [
        "import matplotlib.pyplot as plt\n",
        "import pandas as pd\n",
        "import numpy as np\n",
        "from PIL import Image\n",
        "from wordcloud import WordCloud, STOPWORDS, ImageColorGenerator\n",
        "\n",
        "pd.options.display.max_columns = None"
      ],
      "execution_count": 0,
      "outputs": []
    },
    {
      "cell_type": "code",
      "metadata": {
        "id": "gwXGyRgMw64e",
        "colab_type": "code",
        "colab": {}
      },
      "source": [
        "df = pd.read_excel(\"/dataset/bancocasos-feminicidio.xls\") "
      ],
      "execution_count": 0,
      "outputs": []
    },
    {
      "cell_type": "code",
      "metadata": {
        "id": "oXM2iO9hpLi0",
        "colab_type": "code",
        "colab": {}
      },
      "source": [
        "display(f\"Entradas: {df.shape[0]}, Variavéis: {df.shape[1]}\")"
      ],
      "execution_count": 0,
      "outputs": []
    },
    {
      "cell_type": "code",
      "metadata": {
        "id": "qkoz1eALrOIh",
        "colab_type": "code",
        "colab": {}
      },
      "source": [
        "display(df.head())"
      ],
      "execution_count": 0,
      "outputs": []
    },
    {
      "cell_type": "code",
      "metadata": {
        "id": "-gkJD6APtA9T",
        "colab_type": "code",
        "colab": {}
      },
      "source": [
        "display(df.dtypes)"
      ],
      "execution_count": 0,
      "outputs": []
    },
    {
      "cell_type": "code",
      "metadata": {
        "id": "fDbOIYl8FGs3",
        "colab_type": "code",
        "colab": {}
      },
      "source": [
        "Motivo_Crime = df.dropna(subset=['Motivo do Crime'], axis=0)['Motivo do Crime']\n",
        "\n",
        "for x in range(34):\n",
        "    display(Motivo_Crime.iloc[x])"
      ],
      "execution_count": 0,
      "outputs": []
    },
    {
      "cell_type": "code",
      "metadata": {
        "id": "Qxm6ti5tGw1d",
        "colab_type": "code",
        "colab": {}
      },
      "source": [
        "All_Motivo_Crime = \" \".join(s for s in Motivo_Crime)\n",
        "\n",
        "display(f\"Quantidade de palavras: {len(All_Motivo_Crime)}\")"
      ],
      "execution_count": 0,
      "outputs": []
    },
    {
      "cell_type": "code",
      "metadata": {
        "id": "Exl9sfv7HQcz",
        "colab_type": "code",
        "colab": {}
      },
      "source": [
        "stopwords = set(STOPWORDS)\n",
        "stopwords.update([\"era\",\"seu\",\"então\",\"lamber\",\"pela\",\"com\",\"a\",\"do\",\"de\",\n",
        "                  \"da\",\"por\",\"que\",\"se\",\"vítima\",\"pelo\",\"não\",\"o\",\"+\",\",\",'\"',\";\",\":\",\n",
        "                  \".\",\"ela\",\"bunda\",\"na\",\"para\",\"ter\",\"porque\",\"réu\",\"ele\",\"vai\",\"um\",\n",
        "                  \"filha\",\"inquérito\",\"fato\",\"foi\",\"ao\",\"disse\",\"residência\",\"tem\",\"lá\",\n",
        "                 \"mamãe\",\"feijão\",\"outro\",\"ajudar\",\"em\",\"mais\",\"mãe\", \"fora\",\n",
        "                  \"como\",\"\"])\n",
        "\n",
        "Wordcloud = WordCloud(stopwords=stopwords,\n",
        "                     background_color=\"black\",\n",
        "                      width=1600, height=800).generate(All_Motivo_Crime)"
      ],
      "execution_count": 0,
      "outputs": []
    },
    {
      "cell_type": "code",
      "metadata": {
        "id": "Q26KsWRSQKWW",
        "colab_type": "code",
        "colab": {}
      },
      "source": [
        "fig, ax = plt.subplots(figsize=(10,10))\n",
        "ax.imshow(Wordcloud, interpolation='bilinear')\n",
        "ax.set_axis_off()\n",
        "\n",
        "plt.imshow(Wordcloud)"
      ],
      "execution_count": 0,
      "outputs": []
    }
  ]
}